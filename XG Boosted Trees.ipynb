{
 "cells": [
  {
   "cell_type": "code",
   "execution_count": null,
   "metadata": {},
   "outputs": [],
   "source": [
    "# Requires Pip Install\n",
    "# pip install xgboost"
   ]
  },
  {
   "cell_type": "code",
   "execution_count": null,
   "metadata": {},
   "outputs": [],
   "source": [
    "# Import the data\n",
    "import pandas as pd\n",
    "import numpy as np\n",
    "import xgboost as xgb\n",
    "from sklearn.model_selection import train_test_split\n",
    "from sklearn.metrics import balanced_accuracy_score, confusion_matrix, ConfusionMatrixDisplay\n",
    "from sklearn.preprocessing import OneHotEncoder, OrdinalEncoder\n",
    "import matplotlib.pyplot as plt\n",
    "from imblearn.over_sampling import SMOTE\n",
    "\n",
    "og_df = pd.read_csv('./original dataset/fake_job_postings.csv')\n",
    "og_form = pd.read_csv('./formatted dataset/fake_job_postings.csv')\n",
    "\n",
    "df = og_df.copy()\n",
    "form = og_form.copy()\n",
    "\n",
    "display(df.head())\n",
    "\n",
    "display(form.head())"
   ]
  },
  {
   "cell_type": "code",
   "execution_count": null,
   "metadata": {},
   "outputs": [],
   "source": [
    "# moving below, this was too early and causing datal leakage\n",
    "\n",
    "# implement one hot encoding for department\n",
    "ohe = OneHotEncoder(min_frequency=20, handle_unknown=\"ignore\")\n",
    "# One-hot encode the 'department' column\n",
    "ohe = OneHotEncoder(min_frequency=20, handle_unknown=\"ignore\")\n",
    "dept_encoded = ohe.fit_transform(df[['department']])\n",
    "# Convert the sparse matrix to a dense array\n",
    "dept_encoded_dense = dept_encoded.toarray()\n",
    "# Create a DataFrame with the encoded department data\n",
    "dept_df = pd.DataFrame(dept_encoded_dense, columns=ohe.get_feature_names_out([\"department\"]))\n",
    "# Join the original DataFrame with the encoded department DataFrame\n",
    "df = df.join(dept_df)\n",
    "df.drop(['department'], axis=1, inplace=True)"
   ]
  },
  {
   "cell_type": "code",
   "execution_count": null,
   "metadata": {},
   "outputs": [],
   "source": [
    "data_leak = ['job_id']\n",
    "form.drop(data_leak, axis=1, inplace=True)\n",
    "df.drop(data_leak, axis=1, inplace=True)\n",
    "\n",
    "# removing the categorical columns for a baseline test\n",
    "df.drop(['company_profile','description','requirements','benefits','location','salary_range','title'], axis=1, inplace=True)\n",
    "\n",
    "# creating a df with some categorical fields that aren't long text fields\n",
    "categorical=['employment_type', 'required_experience', 'required_education', 'industry', 'function']\n",
    "df_categorical = df.copy()\n",
    "form_cat = form.copy()\n",
    "\n",
    "# Drop the remaining categorical columns from the original DataFrame\n",
    "df.drop(categorical, axis=1, inplace=True)\n",
    "form.drop(categorical, axis=1, inplace=True)\n",
    "\n",
    "# set the type to category for the XGB DMatrix to handle when flagging for categorical columns\n",
    "df_categorical[categorical] = df_categorical[categorical].astype('category')\n",
    "form_cat[categorical] = form_cat[categorical].astype('category')\n",
    "df_categorical[categorical] = df_categorical[categorical].astype('category')"
   ]
  },
  {
   "cell_type": "code",
   "execution_count": null,
   "metadata": {},
   "outputs": [],
   "source": [
    "# most basic model\n",
    "\n",
    "x = df.drop(['fraudulent'], axis=1)\n",
    "y = df['fraudulent']\n",
    "\n",
    "x_train, x_test, y_train, y_test = train_test_split(x, y, test_size=0.2, random_state=0)\n",
    "\n",
    "# build with oversampling\n",
    "\n",
    "x_os = df.drop(['fraudulent'], axis=1)\n",
    "y_os = df['fraudulent']\n",
    "\n",
    "x_train_os, x_test_os, y_train_os, y_test_os = train_test_split(x_os, y_os, test_size=0.2, random_state=0)\n",
    "\n",
    "# # Apply SMOTE to the training data\n",
    "# smote = SMOTE(random_state=42)\n",
    "# x_train_os, y_train_os = smote.fit_resample(x_train_os, y_train_os)\n",
    "\n",
    "# build is oversampling and categorical fields\n",
    "\n",
    "x_os_cat = df_categorical.drop(['fraudulent'], axis=1)\n",
    "y_os_cat = df_categorical['fraudulent']\n",
    "\n",
    "x_train_os_cat, x_test_os_cat, y_train_os_cat, y_test_os_cat = train_test_split(x_os_cat, y_os_cat, test_size=0.2, random_state=0)"
   ]
  },
  {
   "cell_type": "code",
   "execution_count": null,
   "metadata": {},
   "outputs": [],
   "source": [
    "# Use test and train datafra to create a DMatrix\n",
    "\n",
    "dtrain = xgb.DMatrix(x_train, label=y_train)\n",
    "dtest = xgb.DMatrix(x_test, label=y_test)\n",
    "\n",
    "dtrain_os = xgb.DMatrix(x_train_os, label=y_train_os)\n",
    "dtest_os = xgb.DMatrix(x_test_os, label=y_test_os)\n",
    "\n",
    "dtrain_os_cat = xgb.DMatrix(x_train_os_cat, label=y_train_os_cat, enable_categorical=True)\n",
    "dtest_os_cat = xgb.DMatrix(x_test_os_cat, label=y_test_os_cat, enable_categorical=True)\n"
   ]
  },
  {
   "cell_type": "code",
   "execution_count": null,
   "metadata": {},
   "outputs": [],
   "source": [
    "# set params and train the DMatrix\n",
    "params = {'max_depth': 2, 'eta': 1, 'objective': 'binary:logistic'}\n",
    "num_round = 10\n",
    "\n",
    "xg_model = xgb.train(params, dtrain, num_round)\n",
    "xg_model_os = xgb.train(params, dtrain_os, num_round)\n",
    "xg_model_os_cat = xgb.train(params, dtrain_os_cat, num_round)"
   ]
  },
  {
   "cell_type": "code",
   "execution_count": null,
   "metadata": {},
   "outputs": [],
   "source": [
    "# Extra cleanup of the formatted dataset\n",
    "\n",
    "# more field to set at category for the DMatrix\n",
    "categorical = ['company_profile', 'description', 'requirements', 'benefits', 'title', 'country','state','city','salary_min','salary_max']\n",
    "\n",
    "form_cat[categorical] = form_cat[categorical].astype('category')\n",
    "# transform the predictions to binary\n",
    "preds_binary = (preds >= 0.5).astype(int)\n",
    "preds_binary_os = (preds_os >= 0.5).astype(int)\n",
    "preds_binary_os_cat = (preds_os_cat >= 0.5).astype(int)\n",
    "\n",
    "display(form_cat.info())"
   ]
  },
  {
   "cell_type": "code",
   "execution_count": null,
   "metadata": {},
   "outputs": [],
   "source": [
    "df['department'] = df['department'].fillna('Unknown')\n",
    "\n",
    "df['department'] = df['department'].astype('str')\n",
    "\n",
    "df['department'].info()"
   ]
  },
  {
   "cell_type": "code",
   "execution_count": null,
   "metadata": {},
   "outputs": [],
   "source": [
    "# cleanup following the train_test_split to avoid data leakage\n",
    "\n",
    "# implement one hot encoding for department\n",
    "ohe = OneHotEncoder(min_frequency=20, handle_unknown=\"ignore\")\n",
    "\n",
    "dept_encoded = ohe.fit_transform(x_train[['department']])\n",
    "dept_encoded_dense = dept_encoded.toarray()\n",
    "dept_df = pd.DataFrame(dept_encoded_dense, columns=ohe.get_feature_names_out([\"department\"]))\n",
    "x_train = x_train.join(dept_df.fillna(-1))\n",
    "x_train.drop(['department'], axis=1, inplace=True)\n",
    "\n",
    "dept_encoded = ohe.fit_transform(x_test[['department']])\n",
    "dept_encoded_dense = dept_encoded.toarray()\n",
    "dept_df = pd.DataFrame(dept_encoded_dense, columns=ohe.get_feature_names_out([\"department\"]))\n",
    "x_test = x_test.join(dept_df)\n",
    "x_test.drop(['department'], axis=1, inplace=True)\n",
    "\n",
    "dept_encoded = ohe.fit_transform(x_train_os[['department']])\n",
    "dept_encoded_dense = dept_encoded.toarray()\n",
    "dept_df = pd.DataFrame(dept_encoded_dense, columns=ohe.get_feature_names_out([\"department\"]))\n",
    "x_train_os = x_train_os.join(dept_df)\n",
    "x_train_os.drop(['department'], axis=1, inplace=True)\n",
    "\n",
    "dept_encoded = ohe.fit_transform(x_test_os[['department']])\n",
    "dept_encoded_dense = dept_encoded.toarray()\n",
    "dept_df = pd.DataFrame(dept_encoded_dense, columns=ohe.get_feature_names_out([\"department\"]))\n",
    "x_test_os = x_test_os.join(dept_df)\n",
    "x_test_os.drop(['department'], axis=1, inplace=True)\n",
    "\n",
    "dept_encoded = ohe.fit_transform(x_train_os_cat[['department']])\n",
    "dept_encoded_dense = dept_encoded.toarray()\n",
    "dept_df = pd.DataFrame(dept_encoded_dense, columns=ohe.get_feature_names_out([\"department\"]))\n",
    "x_train_os_cat = x_train_os_cat.join(dept_df)\n",
    "x_train_os_cat.drop(['department'], axis=1, inplace=True)\n",
    "\n",
    "dept_encoded = ohe.fit_transform(x_test_os_cat[['department']])\n",
    "dept_encoded_dense = dept_encoded.toarray()\n",
    "dept_df = pd.DataFrame(dept_encoded_dense, columns=ohe.get_feature_names_out([\"department\"]))\n",
    "x_test_os_cat = x_test_os_cat.join(dept_df)\n",
    "x_test_os_cat.drop(['department'], axis=1, inplace=True)\n",
    "\n",
    "dept_encoded = ohe.fit_transform(x_train_form[['department']])\n",
    "dept_encoded_dense = dept_encoded.toarray()\n",
    "dept_df = pd.DataFrame(dept_encoded_dense, columns=ohe.get_feature_names_out([\"department\"]))\n",
    "x_train_form = x_train_form.join(dept_df)\n",
    "x_train_form.drop(['department'], axis=1, inplace=True)\n",
    "\n",
    "dept_encoded = ohe.fit_transform(x_test_form[['department']])\n",
    "dept_encoded_dense = dept_encoded.toarray()\n",
    "dept_df = pd.DataFrame(dept_encoded_dense, columns=ohe.get_feature_names_out([\"department\"]))\n",
    "x_test_form = x_test_form.join(dept_df)\n",
    "x_test_form.drop(['department'], axis=1, inplace=True)\n",
    "\n",
    "x_train.head()"
   ]
  },
  {
   "cell_type": "code",
   "execution_count": null,
   "metadata": {},
   "outputs": [],
   "source": [
    "# Apply SMOTE to the training data now that the department column has been one-hot encoded\n",
    "smote = SMOTE(random_state=42)\n",
    "x_train_os, y_train_os = smote.fit_resample(x_train_os, y_train_os)"
   ]
  },
  {
   "cell_type": "code",
   "execution_count": null,
   "metadata": {},
   "outputs": [],
   "source": [
    "# Use pandas dataframe to create a DMatrix\n",
    "\n",
    "dtrain = xgb.DMatrix(x_train, label=y_train)\n",
    "dtest = xgb.DMatrix(x_test, label=y_test)\n",
    "\n",
    "dtrain_os = xgb.DMatrix(x_train_os, label=y_train_os)\n",
    "dtest_os = xgb.DMatrix(x_test_os, label=y_test_os)\n",
    "\n",
    "dtrain_os_cat = xgb.DMatrix(x_train_os_cat, label=y_train_os_cat, enable_categorical=True)\n",
    "dtest_os_cat = xgb.DMatrix(x_test_os_cat, label=y_test_os_cat, enable_categorical=True)\n",
    "\n",
    "dtrain_form = xgb.DMatrix(x_train_form, label=y_train_form, enable_categorical=True)\n",
    "dtest_form = xgb.DMatrix(x_test_form, label=y_test_form, enable_categorical=True)\n"
   ]
  },
  {
   "cell_type": "code",
   "execution_count": null,
   "metadata": {},
   "outputs": [],
   "source": [
    "# set params and train the DMatrix\n",
    "params = {'max_depth': 2, 'eta': 1, 'objective': 'binary:logistic'}\n",
    "num_round = 10\n",
    "\n",
    "xg_model = xgb.train(params, dtrain, num_round)\n",
    "xg_model_os = xgb.train(params, dtrain_os, num_round)\n",
    "xg_model_os_cat = xgb.train(params, dtrain_os_cat, num_round)"
   ]
  },
  {
   "cell_type": "code",
   "execution_count": null,
   "metadata": {},
   "outputs": [],
   "source": [
    "# predict the xg model\n",
    "preds = xg_model.predict(dtest)\n",
    "preds_os = xg_model_os.predict(dtest_os)\n",
    "preds_os_cat = xg_model_os_cat.predict(dtest_os_cat)\n",
    "\n",
    "# convert the predictions to binary\n",
    "preds_binary = (preds >= 0.5).astype(int)\n",
    "preds_binary_os = (preds_os >= 0.5).astype(int)\n",
    "preds_binary_os_cat = (preds_os_cat >= 0.5).astype(int)\n",
    "\n",
    "# check accuracy of the model\n",
    "print('Base Model: ', balanced_accuracy_score(y_test, preds_binary))\n",
    "print('Oversampled Model: ', balanced_accuracy_score(y_test_os, preds_binary_os))\n",
    "print('Oversample Categorized Model: ', balanced_accuracy_score(y_test_os_cat, preds_binary_os_cat))"
   ]
  },
  {
   "cell_type": "code",
   "execution_count": null,
   "metadata": {},
   "outputs": [],
   "source": [
    "# Calculate the confusion matrix\n",
    "cm = confusion_matrix(y_test, preds_binary)\n",
    "print('Confusion Matrix:')\n",
    "print(cm)\n",
    "\n",
    "# Display the confusion matrix\n",
    "disp = ConfusionMatrixDisplay(confusion_matrix=cm, display_labels=[0, 1])\n",
    "disp.plot(cmap=plt.cm.Blues)\n",
    "plt.show()"
   ]
  },
  {
   "cell_type": "code",
   "execution_count": null,
   "metadata": {},
   "outputs": [],
   "source": [
    "# Calculate the confusion matrix\n",
    "cm = confusion_matrix(y_test_os, preds_binary_os)\n",
    "print('Confusion Matrix:')\n",
    "print(cm)\n",
    "\n",
    "# Display the confusion matrix\n",
    "disp = ConfusionMatrixDisplay(confusion_matrix=cm, display_labels=[0, 1])\n",
    "disp.plot(cmap=plt.cm.Blues)\n",
    "plt.show()"
   ]
  },
  {
   "cell_type": "code",
   "execution_count": null,
   "metadata": {},
   "outputs": [],
   "source": [
    "# Calculate the confusion matrix\n",
    "cm = confusion_matrix(y_test_os_cat, preds_binary_os_cat)\n",
    "print('Confusion Matrix:')\n",
    "print(cm)\n",
    "\n",
    "# Display the confusion matrix\n",
    "disp = ConfusionMatrixDisplay(confusion_matrix=cm, display_labels=[0, 1])\n",
    "disp.plot(cmap=plt.cm.Blues)\n",
    "plt.show()"
   ]
  },
  {
   "cell_type": "code",
   "execution_count": null,
   "metadata": {},
   "outputs": [],
   "source": [
    "from xgboost import XGBClassifier, XGBRegressor\n",
    "\n",
    "xgbc = XGBClassifier(n_estimators=136, max_depth=4, learning_rate=.13, random_state=1)\n",
    "\n",
    "# fit the model\n",
    "xgbc.fit(x_test_os, y_test_os)\n",
    "\n",
    "# Make predictions\n",
    "train_pred_os = xgbc.predict(x_train_os)\n",
    "test_pred_os = xgbc.predict(x_test_os)"
   ]
  },
  {
   "cell_type": "code",
   "execution_count": null,
   "metadata": {},
   "outputs": [],
   "source": [
    "\n",
    "print('\\nRandom Oversampled and categorized Data with Tuned XGB Classifer')\n",
    "# Print scores\n",
    "print(\"--------------------------------------------------------\")\n",
    "print(balanced_accuracy_score(y_train_os, train_pred_os),'training score')\n",
    "print(balanced_accuracy_score(y_test_os, test_pred_os),'testing score')"
   ]
  }
 ],
 "metadata": {
  "kernelspec": {
   "display_name": "Python 3 (ipykernel)",
   "language": "python",
   "name": "python3"
  },
  "language_info": {
   "codemirror_mode": {
    "name": "ipython",
    "version": 3
   },
   "file_extension": ".py",
   "mimetype": "text/x-python",
   "name": "python",
   "nbconvert_exporter": "python",
   "pygments_lexer": "ipython3",
   "version": "3.10.13"
  }
 },
 "nbformat": 4,
 "nbformat_minor": 4
}
